{
 "cells": [
  {
   "cell_type": "markdown",
   "metadata": {
    "application/vnd.databricks.v1+cell": {
     "cellMetadata": {},
     "inputWidgets": {},
     "nuid": "d5c399e3-42f8-4c97-be51-1c4b561c1347",
     "showTitle": false,
     "tableResultSettingsMap": {},
     "title": ""
    }
   },
   "source": [
    "## Transform Customer Data\n",
    "<ol>\n",
    "<li>Remove records with null customer ids</li>\n",
    "<li>Remove exact duplicate records</li>\n",
    "<li>Remove duplicate records based on created_timestamp</li>\n",
    "<li>Write tranformed data to Silver Schema</li>\n",
    "</ol>"
   ]
  },
  {
   "cell_type": "markdown",
   "metadata": {
    "application/vnd.databricks.v1+cell": {
     "cellMetadata": {},
     "inputWidgets": {},
     "nuid": "ae24f21a-7ebb-43ea-8ee9-de78fcebbba7",
     "showTitle": false,
     "tableResultSettingsMap": {},
     "title": ""
    }
   },
   "source": [
    "### 1.Remove records with null customer ids"
   ]
  },
  {
   "cell_type": "code",
   "execution_count": 0,
   "metadata": {
    "application/vnd.databricks.v1+cell": {
     "cellMetadata": {
      "byteLimit": 2048000,
      "rowLimit": 10000
     },
     "inputWidgets": {},
     "nuid": "6d51f99d-f2be-44e9-b4e4-7ce02d3a18ce",
     "showTitle": false,
     "tableResultSettingsMap": {},
     "title": ""
    }
   },
   "outputs": [],
   "source": [
    "SELECT * FROM gizmobox_cat.bronze.v_customers where customer_id is not null;"
   ]
  },
  {
   "cell_type": "markdown",
   "metadata": {
    "application/vnd.databricks.v1+cell": {
     "cellMetadata": {},
     "inputWidgets": {},
     "nuid": "e24264e8-1f37-41f8-9e0b-e15eaa3361b8",
     "showTitle": false,
     "tableResultSettingsMap": {},
     "title": ""
    }
   },
   "source": [
    "### 2.Remove exact duplicate records"
   ]
  },
  {
   "cell_type": "code",
   "execution_count": 0,
   "metadata": {
    "application/vnd.databricks.v1+cell": {
     "cellMetadata": {
      "byteLimit": 2048000,
      "rowLimit": 10000
     },
     "inputWidgets": {},
     "nuid": "0a5a1402-189c-4d76-b2e5-7a687a1cbf03",
     "showTitle": false,
     "tableResultSettingsMap": {},
     "title": ""
    }
   },
   "outputs": [],
   "source": [
    "SELECT * FROM gizmobox_cat.bronze.v_customers where customer_id is not null order by customer_id ;"
   ]
  },
  {
   "cell_type": "code",
   "execution_count": 0,
   "metadata": {
    "application/vnd.databricks.v1+cell": {
     "cellMetadata": {
      "byteLimit": 2048000,
      "rowLimit": 10000
     },
     "inputWidgets": {},
     "nuid": "1ad5fdaa-9f1d-4118-952f-260d227b2429",
     "showTitle": false,
     "tableResultSettingsMap": {},
     "title": ""
    }
   },
   "outputs": [],
   "source": [
    "SELECT DISTINCT * FROM gizmobox_cat.bronze.v_customers where customer_id is not null order by customer_id ;"
   ]
  },
  {
   "cell_type": "code",
   "execution_count": 0,
   "metadata": {
    "application/vnd.databricks.v1+cell": {
     "cellMetadata": {
      "byteLimit": 2048000,
      "rowLimit": 10000
     },
     "inputWidgets": {},
     "nuid": "43ddbbe2-9e1f-4082-8b81-a48111156899",
     "showTitle": false,
     "tableResultSettingsMap": {},
     "title": ""
    }
   },
   "outputs": [],
   "source": [
    "SELECT CUSTOMER_ID,max(created_timestamp),max(customer_name),max(date_of_birth),max(email),\n",
    "max(member_since),max(telephone )\n",
    " FROM gizmobox_cat.bronze.v_customers where customer_id is not null GROUP BY customer_id order by customer_id ;"
   ]
  },
  {
   "cell_type": "code",
   "execution_count": 0,
   "metadata": {
    "application/vnd.databricks.v1+cell": {
     "cellMetadata": {
      "byteLimit": 2048000,
      "rowLimit": 10000
     },
     "inputWidgets": {},
     "nuid": "46e6fea3-5f8f-4baf-bcc6-9f34f208d22a",
     "showTitle": false,
     "tableResultSettingsMap": {},
     "title": ""
    }
   },
   "outputs": [],
   "source": [
    "create or replace temporary view v_customers_distinct as\n",
    "SELECT DISTINCT * FROM gizmobox_cat.bronze.v_customers where customer_id is not null order by customer_id ;"
   ]
  },
  {
   "cell_type": "code",
   "execution_count": 0,
   "metadata": {
    "application/vnd.databricks.v1+cell": {
     "cellMetadata": {
      "byteLimit": 2048000,
      "rowLimit": 10000
     },
     "inputWidgets": {},
     "nuid": "82301238-452c-4396-b481-0bef9245bb3e",
     "showTitle": false,
     "tableResultSettingsMap": {},
     "title": ""
    }
   },
   "outputs": [],
   "source": [
    "select * from v_customers_distinct;"
   ]
  },
  {
   "cell_type": "markdown",
   "metadata": {
    "application/vnd.databricks.v1+cell": {
     "cellMetadata": {},
     "inputWidgets": {},
     "nuid": "8f8c8a4c-33ac-462c-8946-59d5c876fa62",
     "showTitle": false,
     "tableResultSettingsMap": {},
     "title": ""
    }
   },
   "source": [
    "### 3.Remove duplicate records based on created_timestamp"
   ]
  },
  {
   "cell_type": "code",
   "execution_count": 0,
   "metadata": {
    "application/vnd.databricks.v1+cell": {
     "cellMetadata": {
      "byteLimit": 2048000,
      "rowLimit": 10000
     },
     "inputWidgets": {},
     "nuid": "148903e9-5720-462b-b3ef-97748d66e78e",
     "showTitle": false,
     "tableResultSettingsMap": {},
     "title": ""
    }
   },
   "outputs": [],
   "source": [
    "select customer_id,max(created_timestamp) as max_created_timestamp from v_customers_distinct group by customer_id"
   ]
  },
  {
   "cell_type": "code",
   "execution_count": 0,
   "metadata": {
    "application/vnd.databricks.v1+cell": {
     "cellMetadata": {
      "byteLimit": 2048000,
      "rowLimit": 10000
     },
     "inputWidgets": {},
     "nuid": "95ea56d9-3eab-4541-888b-ccedfb8a5c11",
     "showTitle": false,
     "tableResultSettingsMap": {},
     "title": ""
    }
   },
   "outputs": [],
   "source": [
    "with cte_max as \n",
    "(SELECT customer_id,max(created_timestamp) as max_created_timestamp from v_customers_distinct group by customer_id),\n",
    "cte_max_2 as (\n",
    "select t.* from v_customers_distinct t join cte_max t1 on t.customer_id = t1.customer_id and t.created_timestamp = t1.max_created_timestamp)\n",
    "select * from cte_max_2;"
   ]
  },
  {
   "cell_type": "markdown",
   "metadata": {
    "application/vnd.databricks.v1+cell": {
     "cellMetadata": {},
     "inputWidgets": {},
     "nuid": "86024cb3-e287-47a2-9be4-e0133b1677f4",
     "showTitle": false,
     "tableResultSettingsMap": {},
     "title": ""
    }
   },
   "source": [
    "### 4.CAST the column values to the correct datatype"
   ]
  },
  {
   "cell_type": "code",
   "execution_count": 0,
   "metadata": {
    "application/vnd.databricks.v1+cell": {
     "cellMetadata": {
      "byteLimit": 2048000,
      "rowLimit": 10000
     },
     "inputWidgets": {},
     "nuid": "97b64f13-237a-42d3-8dcd-a5df272ed6e2",
     "showTitle": false,
     "tableResultSettingsMap": {},
     "title": ""
    }
   },
   "outputs": [],
   "source": [
    "with cte_max as \n",
    "(SELECT customer_id,max(created_timestamp) as max_created_timestamp from v_customers_distinct group by customer_id),\n",
    "cte_max_2 as (\n",
    "select t.* from v_customers_distinct t join cte_max t1 on t.customer_id = t1.customer_id and t.created_timestamp = t1.max_created_timestamp)\n",
    "select CAST(created_timestamp as timestamp) as created_timestamp,\n",
    "customer_id,\n",
    "customer_name,\n",
    "cast(date_of_birth as DATE) AS DATE_OF_BIRTH,\n",
    "email,\n",
    "CAST(member_since as DATE) as member_since,\n",
    "telephone,\n",
    "file_path,file_name\n",
    " from cte_max_2;"
   ]
  },
  {
   "cell_type": "markdown",
   "metadata": {
    "application/vnd.databricks.v1+cell": {
     "cellMetadata": {},
     "inputWidgets": {},
     "nuid": "a33f98a1-73c1-46ff-8cb9-e66cd72dd8af",
     "showTitle": false,
     "tableResultSettingsMap": {},
     "title": ""
    }
   },
   "source": [
    "### 5.Write tranformed data to Silver Schema"
   ]
  },
  {
   "cell_type": "code",
   "execution_count": 0,
   "metadata": {
    "application/vnd.databricks.v1+cell": {
     "cellMetadata": {
      "byteLimit": 2048000,
      "rowLimit": 10000
     },
     "inputWidgets": {},
     "nuid": "a92e3467-4efb-4ff1-931d-324223f7470c",
     "showTitle": false,
     "tableResultSettingsMap": {},
     "title": ""
    }
   },
   "outputs": [],
   "source": [
    "CREATE TABLE gizmobox_cat.silver.customers as\n",
    "with cte_max as \n",
    "(SELECT customer_id,max(created_timestamp) as max_created_timestamp from v_customers_distinct group by customer_id),\n",
    "cte_max_2 as (\n",
    "select t.* from v_customers_distinct t join cte_max t1 on t.customer_id = t1.customer_id and t.created_timestamp = t1.max_created_timestamp)\n",
    "select CAST(created_timestamp as timestamp) as created_timestamp,\n",
    "customer_id,\n",
    "customer_name,\n",
    "cast(date_of_birth as DATE) AS DATE_OF_BIRTH,\n",
    "email,\n",
    "CAST(member_since as DATE) as member_since,\n",
    "telephone,\n",
    "file_path,file_name\n",
    " from cte_max_2;"
   ]
  },
  {
   "cell_type": "code",
   "execution_count": 0,
   "metadata": {
    "application/vnd.databricks.v1+cell": {
     "cellMetadata": {
      "byteLimit": 2048000,
      "rowLimit": 10000
     },
     "inputWidgets": {},
     "nuid": "a3c0d23a-cc6c-4ae7-ae4f-16633386514a",
     "showTitle": false,
     "tableResultSettingsMap": {},
     "title": ""
    }
   },
   "outputs": [],
   "source": [
    "select * from gizmobox_cat.silver.customers;"
   ]
  },
  {
   "cell_type": "code",
   "execution_count": 0,
   "metadata": {
    "application/vnd.databricks.v1+cell": {
     "cellMetadata": {
      "byteLimit": 2048000,
      "rowLimit": 10000
     },
     "inputWidgets": {},
     "nuid": "c40582c4-3ab9-4237-8a83-85378bb465eb",
     "showTitle": false,
     "tableResultSettingsMap": {},
     "title": ""
    }
   },
   "outputs": [],
   "source": [
    "DESCRIBE EXTENDED gizmobox_cat.silver.customers;"
   ]
  },
  {
   "cell_type": "markdown",
   "metadata": {
    "application/vnd.databricks.v1+cell": {
     "cellMetadata": {},
     "inputWidgets": {},
     "nuid": "69221041-3c83-4c9d-ba1e-f9d0e9d526ab",
     "showTitle": false,
     "tableResultSettingsMap": {},
     "title": ""
    }
   },
   "source": []
  }
 ],
 "metadata": {
  "application/vnd.databricks.v1+notebook": {
   "computePreferences": null,
   "dashboards": [],
   "environmentMetadata": {
    "base_environment": "",
    "environment_version": "2"
   },
   "inputWidgetPreferences": null,
   "language": "sql",
   "notebookMetadata": {
    "pythonIndentUnit": 4
   },
   "notebookName": "02.Transform Customer Data",
   "widgets": {}
  },
  "language_info": {
   "name": "sql"
  }
 },
 "nbformat": 4,
 "nbformat_minor": 0
}
