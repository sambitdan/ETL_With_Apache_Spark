{
 "cells": [
  {
   "cell_type": "markdown",
   "metadata": {
    "application/vnd.databricks.v1+cell": {
     "cellMetadata": {},
     "inputWidgets": {},
     "nuid": "5210bf8b-818e-4cae-bb47-900ec0f5af87",
     "showTitle": false,
     "tableResultSettingsMap": {},
     "title": ""
    }
   },
   "source": [
    "## Transform Payments Data\n",
    "<ol>\n",
    "<li>Extract Date and time from payment_timestamp and create new column payment_date and payment_time</li>\n",
    "<li>Map Status to contain descriptive values\n",
    "  <pre>(1-success,2-pending,3-cancelled,4-Failed)</pre></li>\n",
    "<li>Write transformed data to silver schema</li>"
   ]
  },
  {
   "cell_type": "code",
   "execution_count": 0,
   "metadata": {
    "application/vnd.databricks.v1+cell": {
     "cellMetadata": {
      "byteLimit": 2048000,
      "rowLimit": 10000
     },
     "inputWidgets": {},
     "nuid": "94155bb1-b5a4-4b9e-8a24-45a0ac530403",
     "showTitle": false,
     "tableResultSettingsMap": {},
     "title": ""
    }
   },
   "outputs": [],
   "source": [
    "select payment_id,order_id,payment_timestamp,payment_status,payment_method\n",
    "from gizmobox_cat.bronze.payments;"
   ]
  },
  {
   "cell_type": "markdown",
   "metadata": {
    "application/vnd.databricks.v1+cell": {
     "cellMetadata": {},
     "inputWidgets": {},
     "nuid": "ccd211ce-7b16-4fe0-839a-54fa71856b00",
     "showTitle": false,
     "tableResultSettingsMap": {},
     "title": ""
    }
   },
   "source": [
    "####1.Extract Date and time from payment_timestamp.\n",
    "<a href= 'https://learn.microsoft.com/en-us/azure/databricks/sql/language-manual/functions/date_format'>Date_Format Function</a>"
   ]
  },
  {
   "cell_type": "code",
   "execution_count": 0,
   "metadata": {
    "application/vnd.databricks.v1+cell": {
     "cellMetadata": {
      "byteLimit": 2048000,
      "rowLimit": 10000
     },
     "inputWidgets": {},
     "nuid": "405a0b49-792f-42ef-83bf-2de221b40817",
     "showTitle": false,
     "tableResultSettingsMap": {
      "0": {
       "dataGridStateBlob": "{\"version\":1,\"tableState\":{\"columnPinning\":{\"left\":[\"#row_number#\"],\"right\":[]},\"columnSizing\":{},\"columnVisibility\":{}},\"settings\":{\"columns\":{}},\"syncTimestamp\":1752358713455}",
       "filterBlob": null,
       "queryPlanFiltersBlob": null,
       "tableResultIndex": 0
      }
     },
     "title": ""
    }
   },
   "outputs": [],
   "source": [
    "select payment_id,order_id,\n",
    "CAST(Date_format(payment_timestamp,'yyyy-MM-dd') AS DATE) AS payment_date,\n",
    "DATE_FORMAT(payment_timestamp,'HH:mm:ss') AS payment_time,\n",
    "payment_status,\n",
    "payment_method\n",
    "from gizmobox_cat.bronze.payments;\n",
    "-- M-> Month, m-> minute"
   ]
  },
  {
   "cell_type": "markdown",
   "metadata": {
    "application/vnd.databricks.v1+cell": {
     "cellMetadata": {
      "byteLimit": 2048000,
      "rowLimit": 10000
     },
     "inputWidgets": {},
     "nuid": "3e2b0694-f4ae-4c2a-b0b7-eca4f05a8ee6",
     "showTitle": false,
     "tableResultSettingsMap": {},
     "title": ""
    }
   },
   "source": [
    "####2.Map Status to contain descriptive values"
   ]
  },
  {
   "cell_type": "code",
   "execution_count": 0,
   "metadata": {
    "application/vnd.databricks.v1+cell": {
     "cellMetadata": {
      "byteLimit": 2048000,
      "rowLimit": 10000
     },
     "inputWidgets": {},
     "nuid": "2e4924c4-0ce1-4c6e-b253-2a4b7931314d",
     "showTitle": false,
     "tableResultSettingsMap": {},
     "title": ""
    }
   },
   "outputs": [],
   "source": [
    "select payment_id,order_id,\n",
    "CAST(Date_format(payment_timestamp,'yyyy-MM-dd') AS DATE) AS payment_date,\n",
    "DATE_FORMAT(payment_timestamp,'HH:mm:ss') AS payment_time,\n",
    "(CASE WHEN payment_status=1 THEN 'Success'\n",
    "WHEN payment_status=2 THEN 'Pending'\n",
    "WHEN payment_status=3 THEN 'Cancelled'\n",
    "WHEN payment_status=4 THEN 'Failed'\n",
    "ELSE 'Unknown'\n",
    " END) AS payment_status_description,\n",
    "payment_method\n",
    "from gizmobox_cat.bronze.payments;"
   ]
  },
  {
   "cell_type": "markdown",
   "metadata": {
    "application/vnd.databricks.v1+cell": {
     "cellMetadata": {},
     "inputWidgets": {},
     "nuid": "611d9dcf-f917-4d62-ac5f-194a51f0e299",
     "showTitle": false,
     "tableResultSettingsMap": {},
     "title": ""
    }
   },
   "source": [
    "###3.Write transformed data to silver schema"
   ]
  },
  {
   "cell_type": "code",
   "execution_count": 0,
   "metadata": {
    "application/vnd.databricks.v1+cell": {
     "cellMetadata": {
      "byteLimit": 2048000,
      "rowLimit": 10000
     },
     "inputWidgets": {},
     "nuid": "b7f2a20e-07d5-436d-abc2-031f05c4415b",
     "showTitle": false,
     "tableResultSettingsMap": {},
     "title": ""
    }
   },
   "outputs": [],
   "source": [
    "CREATE TABLE gizmobox_cat.silver.payments as\n",
    "select payment_id,order_id,\n",
    "CAST(Date_format(payment_timestamp,'yyyy-MM-dd') AS DATE) AS payment_date,\n",
    "DATE_FORMAT(payment_timestamp,'HH:mm:ss') AS payment_time,\n",
    "(CASE WHEN payment_status=1 THEN 'Success'\n",
    "WHEN payment_status=2 THEN 'Pending'\n",
    "WHEN payment_status=3 THEN 'Cancelled'\n",
    "WHEN payment_status=4 THEN 'Failed'\n",
    "ELSE 'Unknown'\n",
    " END) AS payment_status_description,\n",
    "payment_method\n",
    "from gizmobox_cat.bronze.payments"
   ]
  },
  {
   "cell_type": "code",
   "execution_count": 0,
   "metadata": {
    "application/vnd.databricks.v1+cell": {
     "cellMetadata": {
      "byteLimit": 2048000,
      "rowLimit": 10000
     },
     "inputWidgets": {},
     "nuid": "7041e209-79e5-40ab-8c68-c26237f086f0",
     "showTitle": false,
     "tableResultSettingsMap": {},
     "title": ""
    }
   },
   "outputs": [],
   "source": [
    "select * from gizmobox_cat.silver.payments;"
   ]
  }
 ],
 "metadata": {
  "application/vnd.databricks.v1+notebook": {
   "computePreferences": null,
   "dashboards": [],
   "environmentMetadata": {
    "base_environment": "",
    "environment_version": "2"
   },
   "inputWidgetPreferences": null,
   "language": "sql",
   "notebookMetadata": {},
   "notebookName": "3.Transform Payments Data",
   "widgets": {}
  },
  "language_info": {
   "name": "sql"
  }
 },
 "nbformat": 4,
 "nbformat_minor": 0
}
