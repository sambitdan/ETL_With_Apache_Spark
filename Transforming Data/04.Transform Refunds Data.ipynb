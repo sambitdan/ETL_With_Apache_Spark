{
 "cells": [
  {
   "cell_type": "markdown",
   "metadata": {
    "application/vnd.databricks.v1+cell": {
     "cellMetadata": {},
     "inputWidgets": {},
     "nuid": "fcb40fdc-4871-4ac8-a957-d96a08e76ac5",
     "showTitle": false,
     "tableResultSettingsMap": {},
     "title": ""
    }
   },
   "source": [
    "## Transform Refunds Data\n",
    "<ol>\n",
    "<li>Extract specific portion of the string from refund_reason using split fuction</li>\n",
    "<li>Extract specific portion of the string from refund_reason using regexp_extract fuction</li>\n",
    "<li>Extract date and timestamp from the refund timestamp</li>\n",
    "<li>Write transformed data to silver schema in hive metastore</li>\n",
    "</ol>"
   ]
  },
  {
   "cell_type": "code",
   "execution_count": 0,
   "metadata": {
    "application/vnd.databricks.v1+cell": {
     "cellMetadata": {
      "byteLimit": 2048000,
      "rowLimit": 10000
     },
     "inputWidgets": {},
     "nuid": "aee6373e-0ad7-48fa-b97d-66a34adaa2f7",
     "showTitle": false,
     "tableResultSettingsMap": {},
     "title": ""
    }
   },
   "outputs": [],
   "source": [
    "SELECT refund_id, payment_id, refund_timestamp, refund_amount, refund_reason FROM hive_metastore.bronze.refunds;"
   ]
  },
  {
   "cell_type": "markdown",
   "metadata": {
    "application/vnd.databricks.v1+cell": {
     "cellMetadata": {},
     "inputWidgets": {},
     "nuid": "2a3b4adc-ff22-49d6-9144-89e732b46742",
     "showTitle": false,
     "tableResultSettingsMap": {},
     "title": ""
    }
   },
   "source": [
    "####1.Extract specific portion of the string from refund_reason using split fuction\n",
    "<a href ='https://learn.microsoft.com/en-us/azure/databricks/sql/language-manual/functions/split'>split function</a>"
   ]
  },
  {
   "cell_type": "code",
   "execution_count": 0,
   "metadata": {
    "application/vnd.databricks.v1+cell": {
     "cellMetadata": {
      "byteLimit": 2048000,
      "rowLimit": 10000
     },
     "inputWidgets": {},
     "nuid": "c5feb6d9-8e3b-4d91-a304-27aa70986234",
     "showTitle": false,
     "tableResultSettingsMap": {
      "0": {
       "dataGridStateBlob": "{\"version\":1,\"tableState\":{\"columnPinning\":{\"left\":[\"#row_number#\"],\"right\":[]},\"columnSizing\":{},\"columnVisibility\":{}},\"settings\":{\"columns\":{}},\"syncTimestamp\":1752360494935}",
       "filterBlob": null,
       "queryPlanFiltersBlob": null,
       "tableResultIndex": 0
      }
     },
     "title": ""
    }
   },
   "outputs": [],
   "source": [
    "SELECT refund_id, payment_id, refund_timestamp, refund_amount, \n",
    "split(refund_reason,':')[0] AS refund_reason,\n",
    "split(refund_reason,':')[1] AS refund_source\n",
    " FROM hive_metastore.bronze.refunds;"
   ]
  },
  {
   "cell_type": "markdown",
   "metadata": {
    "application/vnd.databricks.v1+cell": {
     "cellMetadata": {},
     "inputWidgets": {},
     "nuid": "1a82750f-c184-44ff-bf38-e74a869303ef",
     "showTitle": false,
     "tableResultSettingsMap": {},
     "title": ""
    }
   },
   "source": [
    "####2.Extract specific portion of the string from refund_reason using regexp_extract fuction\n",
    "<a href ='https://learn.microsoft.com/en-us/azure/databricks/sql/language-manual/functions/regexp_extract'>\n",
    "regexp_extract Function Documentation</a>"
   ]
  },
  {
   "cell_type": "code",
   "execution_count": 0,
   "metadata": {
    "application/vnd.databricks.v1+cell": {
     "cellMetadata": {
      "byteLimit": 2048000,
      "rowLimit": 10000
     },
     "inputWidgets": {},
     "nuid": "1138576b-a121-4416-bea6-663b39803ed2",
     "showTitle": false,
     "tableResultSettingsMap": {
      "0": {
       "dataGridStateBlob": "{\"version\":1,\"tableState\":{\"columnPinning\":{\"left\":[\"#row_number#\"],\"right\":[]},\"columnSizing\":{},\"columnVisibility\":{}},\"settings\":{\"columns\":{}},\"syncTimestamp\":1752360862141}",
       "filterBlob": null,
       "queryPlanFiltersBlob": null,
       "tableResultIndex": 0
      }
     },
     "title": ""
    }
   },
   "outputs": [],
   "source": [
    "SELECT refund_id, payment_id,\n",
    " refund_timestamp, \n",
    "refund_amount, \n",
    "regexp_extract(refund_reason,'^([^:]+)', 1) as refund_reason,\n",
    "regexp_extract(refund_reason,'([^:]+)$', 1) as refund_source\n",
    "FROM hive_metastore.bronze.refunds;"
   ]
  },
  {
   "cell_type": "markdown",
   "metadata": {
    "application/vnd.databricks.v1+cell": {
     "cellMetadata": {},
     "inputWidgets": {},
     "nuid": "be37eeb7-94ff-4ede-8a7c-eea451d1ae67",
     "showTitle": false,
     "tableResultSettingsMap": {},
     "title": ""
    }
   },
   "source": [
    "#### 3.Extract date and timestamp from the refund timestamp"
   ]
  },
  {
   "cell_type": "code",
   "execution_count": 0,
   "metadata": {
    "application/vnd.databricks.v1+cell": {
     "cellMetadata": {
      "byteLimit": 2048000,
      "rowLimit": 10000
     },
     "inputWidgets": {},
     "nuid": "2a24fb67-6d6d-4d86-aefd-daa37a65a484",
     "showTitle": false,
     "tableResultSettingsMap": {},
     "title": ""
    }
   },
   "outputs": [],
   "source": [
    "SELECT refund_id, payment_id,\n",
    " cast(DATE_FORMAT(refund_timestamp,'yyyy-MM-dd') as date) AS refund_date, \n",
    " DATE_FORMAT(refund_timestamp,'HH:mm:ss')AS refund_time,\n",
    "refund_amount, \n",
    "regexp_extract(refund_reason,'^([^:]+)', 1) as refund_reason,\n",
    "regexp_extract(refund_reason,'([^:]+)$', 1) as refund_source\n",
    "FROM hive_metastore.bronze.refunds;"
   ]
  },
  {
   "cell_type": "markdown",
   "metadata": {
    "application/vnd.databricks.v1+cell": {
     "cellMetadata": {},
     "inputWidgets": {},
     "nuid": "3b20bf2d-ccbf-40e9-9934-775f257fd3d5",
     "showTitle": false,
     "tableResultSettingsMap": {},
     "title": ""
    }
   },
   "source": [
    "####4.Write transformed data to silver schema in hive metastore"
   ]
  },
  {
   "cell_type": "code",
   "execution_count": 0,
   "metadata": {
    "application/vnd.databricks.v1+cell": {
     "cellMetadata": {
      "byteLimit": 2048000,
      "rowLimit": 10000
     },
     "inputWidgets": {},
     "nuid": "ec4bec9e-00fe-4af0-a588-afb643877717",
     "showTitle": false,
     "tableResultSettingsMap": {},
     "title": ""
    }
   },
   "outputs": [],
   "source": [
    "CREATE SCHEMA hive_metastore.silver;"
   ]
  },
  {
   "cell_type": "code",
   "execution_count": 0,
   "metadata": {
    "application/vnd.databricks.v1+cell": {
     "cellMetadata": {
      "byteLimit": 2048000,
      "rowLimit": 10000
     },
     "inputWidgets": {},
     "nuid": "ae9e33fc-83fd-4fd6-bfcc-38de80a4b869",
     "showTitle": false,
     "tableResultSettingsMap": {},
     "title": ""
    }
   },
   "outputs": [],
   "source": [
    "CREATE TABLE hive_metastore.silver.refunds AS(\n",
    "SELECT refund_id, payment_id,\n",
    " cast(DATE_FORMAT(refund_timestamp,'yyyy-MM-dd') as date) AS refund_date, \n",
    " DATE_FORMAT(refund_timestamp,'HH:mm:ss')AS refund_time,\n",
    "refund_amount, \n",
    "regexp_extract(refund_reason,'^([^:]+)', 1) as refund_reason,\n",
    "regexp_extract(refund_reason,'([^:]+)$', 1) as refund_source\n",
    "FROM hive_metastore.bronze.refunds);"
   ]
  },
  {
   "cell_type": "code",
   "execution_count": 0,
   "metadata": {
    "application/vnd.databricks.v1+cell": {
     "cellMetadata": {
      "byteLimit": 2048000,
      "rowLimit": 10000
     },
     "inputWidgets": {},
     "nuid": "a67b71c9-3285-4774-868b-42d3748d4668",
     "showTitle": false,
     "tableResultSettingsMap": {},
     "title": ""
    }
   },
   "outputs": [],
   "source": [
    "select * from hive_metastore.silver.refunds"
   ]
  },
  {
   "cell_type": "code",
   "execution_count": 0,
   "metadata": {
    "application/vnd.databricks.v1+cell": {
     "cellMetadata": {
      "byteLimit": 2048000,
      "rowLimit": 10000
     },
     "inputWidgets": {},
     "nuid": "19b964c9-91f0-4149-9062-d4880f6e1eec",
     "showTitle": false,
     "tableResultSettingsMap": {},
     "title": ""
    }
   },
   "outputs": [],
   "source": [
    "DESCRIBE EXTENDED hive_metastore.silver.refunds;"
   ]
  }
 ],
 "metadata": {
  "application/vnd.databricks.v1+notebook": {
   "computePreferences": null,
   "dashboards": [],
   "environmentMetadata": {
    "base_environment": "",
    "environment_version": "2"
   },
   "inputWidgetPreferences": null,
   "language": "sql",
   "notebookMetadata": {
    "pythonIndentUnit": 4
   },
   "notebookName": "04.Transform Refunds Data",
   "widgets": {}
  },
  "language_info": {
   "name": "sql"
  }
 },
 "nbformat": 4,
 "nbformat_minor": 0
}
