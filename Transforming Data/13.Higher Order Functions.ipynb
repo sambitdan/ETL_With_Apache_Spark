{
 "cells": [
  {
   "cell_type": "markdown",
   "metadata": {
    "application/vnd.databricks.v1+cell": {
     "cellMetadata": {},
     "inputWidgets": {},
     "nuid": "7ace754d-b33f-41fb-a546-53060a2f1b57",
     "showTitle": false,
     "tableResultSettingsMap": {},
     "title": ""
    }
   },
   "source": [
    "## Higher Order Functions\n",
    "- Higher Order Functions are functions that operate on complex data types such as aarays and maps\n",
    "- They allow to pass functions as arguments (such as lambda expressions),apply transformation and returns arrays or maps\n",
    "- They are extremely useful for manipulating aarays without exploding them"
   ]
  },
  {
   "cell_type": "markdown",
   "metadata": {
    "application/vnd.databricks.v1+cell": {
     "cellMetadata": {},
     "inputWidgets": {},
     "nuid": "98cd9bff-b2f0-46f3-a1d9-f72958dfe627",
     "showTitle": false,
     "tableResultSettingsMap": {},
     "title": ""
    }
   },
   "source": [
    "### Commonly used Higher Order Array Functions\n",
    "- Transform\n",
    "- Filter\n",
    "- EXISTS\n",
    "- AGGREGATE"
   ]
  },
  {
   "cell_type": "markdown",
   "metadata": {
    "application/vnd.databricks.v1+cell": {
     "cellMetadata": {},
     "inputWidgets": {},
     "nuid": "33a42217-36fb-4cee-b6d6-b211f9f699aa",
     "showTitle": false,
     "tableResultSettingsMap": {},
     "title": ""
    }
   },
   "source": [
    "### Syntax\n",
    "###### *function_name* (array_column, lambda_expression)\n",
    "###### *lambda_expression:* element->expression"
   ]
  },
  {
   "cell_type": "code",
   "execution_count": 0,
   "metadata": {
    "application/vnd.databricks.v1+cell": {
     "cellMetadata": {
      "byteLimit": 2048000,
      "rowLimit": 10000
     },
     "inputWidgets": {},
     "nuid": "661b8830-f13f-4836-8704-cec52a26fb49",
     "showTitle": false,
     "tableResultSettingsMap": {},
     "title": ""
    }
   },
   "outputs": [],
   "source": [
    "CREATE OR REPLACE TEMPORARY VIEW orders_items AS\n",
    "SELECT * FROM \n",
    "VALUES \n",
    "(1,array('smartphone','laptop','monitor')),\n",
    "(2,array('tablets','headphone','smartwatch')),\n",
    "(3,array('keyboard','mouse'))\n",
    "AS ORDERS(order_id,items);"
   ]
  },
  {
   "cell_type": "code",
   "execution_count": 0,
   "metadata": {
    "application/vnd.databricks.v1+cell": {
     "cellMetadata": {
      "byteLimit": 2048000,
      "rowLimit": 10000
     },
     "inputWidgets": {},
     "nuid": "0cdd96da-46c1-41bc-a863-1ede65d6eccc",
     "showTitle": false,
     "tableResultSettingsMap": {},
     "title": ""
    }
   },
   "outputs": [],
   "source": [
    "SELECT * FROM orders_items;"
   ]
  },
  {
   "cell_type": "markdown",
   "metadata": {
    "application/vnd.databricks.v1+cell": {
     "cellMetadata": {},
     "inputWidgets": {},
     "nuid": "92d849ad-bfda-4bf5-baf2-a39f9f6e90f9",
     "showTitle": false,
     "tableResultSettingsMap": {},
     "title": ""
    }
   },
   "source": [
    "###1.Covert all the item names to be UPPERCASE (Transform Function)"
   ]
  },
  {
   "cell_type": "code",
   "execution_count": 0,
   "metadata": {
    "application/vnd.databricks.v1+cell": {
     "cellMetadata": {
      "byteLimit": 2048000,
      "rowLimit": 10000
     },
     "inputWidgets": {},
     "nuid": "de4f8b89-8fd2-4048-83b1-122f658dc5ef",
     "showTitle": false,
     "tableResultSettingsMap": {},
     "title": ""
    }
   },
   "outputs": [],
   "source": [
    "SELECT order_id,TRANSFORM(items,x->UPPER(x)) as Upper_items\n",
    "from orders_items;"
   ]
  },
  {
   "cell_type": "markdown",
   "metadata": {
    "application/vnd.databricks.v1+cell": {
     "cellMetadata": {},
     "inputWidgets": {},
     "nuid": "e5a56768-e301-4df9-8014-aca3ef004008",
     "showTitle": false,
     "tableResultSettingsMap": {},
     "title": ""
    }
   },
   "source": [
    "###2.Filter only items that contains the string 'smart' (FILTER Function)"
   ]
  },
  {
   "cell_type": "code",
   "execution_count": 0,
   "metadata": {
    "application/vnd.databricks.v1+cell": {
     "cellMetadata": {
      "byteLimit": 2048000,
      "rowLimit": 10000
     },
     "inputWidgets": {},
     "nuid": "7d64ab38-47b5-4018-9a78-7e267c5f80fe",
     "showTitle": false,
     "tableResultSettingsMap": {},
     "title": ""
    }
   },
   "outputs": [],
   "source": [
    "SELECT order_id,FILTER(items,x->lower(x) LIKE 'smart%') as Upper_items\n",
    "from orders_items;"
   ]
  },
  {
   "cell_type": "markdown",
   "metadata": {
    "application/vnd.databricks.v1+cell": {
     "cellMetadata": {},
     "inputWidgets": {},
     "nuid": "89636dc5-c632-4b05-a0f8-d68e11ebf4e5",
     "showTitle": false,
     "tableResultSettingsMap": {},
     "title": ""
    }
   },
   "source": [
    "###3.Check to see whether the order includes any 'monitor'(EXISTS function)"
   ]
  },
  {
   "cell_type": "code",
   "execution_count": 0,
   "metadata": {
    "application/vnd.databricks.v1+cell": {
     "cellMetadata": {
      "byteLimit": 2048000,
      "rowLimit": 10000
     },
     "inputWidgets": {},
     "nuid": "4c63d2fb-798d-4093-abc0-f736fb1ebc03",
     "showTitle": false,
     "tableResultSettingsMap": {},
     "title": ""
    }
   },
   "outputs": [],
   "source": [
    "SELECT order_id,EXISTS(items,x-> lower(x) = 'monitor') as Upper_items\n",
    "from orders_items;"
   ]
  },
  {
   "cell_type": "markdown",
   "metadata": {
    "application/vnd.databricks.v1+cell": {
     "cellMetadata": {},
     "inputWidgets": {},
     "nuid": "a6d2daed-13c4-4f7d-b166-74e6d077aaca",
     "showTitle": false,
     "tableResultSettingsMap": {},
     "title": ""
    }
   },
   "source": [
    "## Array with more than one object"
   ]
  },
  {
   "cell_type": "code",
   "execution_count": 0,
   "metadata": {
    "application/vnd.databricks.v1+cell": {
     "cellMetadata": {
      "byteLimit": 2048000,
      "rowLimit": 10000
     },
     "inputWidgets": {},
     "nuid": "f892fafa-e7e8-4630-9efa-f41d1b04e17e",
     "showTitle": false,
     "tableResultSettingsMap": {},
     "title": ""
    }
   },
   "outputs": [],
   "source": [
    "CREATE OR REPLACE TEMPORARY VIEW orders_items AS\n",
    "SELECT * FROM\n",
    "VALUES\n",
    "  (1, array(\n",
    "    named_struct('name', 'smartphone', 'price', 699),\n",
    "    named_struct('name', 'laptop', 'price', 1299),\n",
    "    named_struct('name', 'monitor', 'price', 399)\n",
    "  )),\n",
    "  (2, array(\n",
    "    named_struct('name', 'tablets', 'price', 599),\n",
    "    named_struct('name', 'headphone', 'price', 199),\n",
    "    named_struct('name', 'smartwatch', 'price', 299)\n",
    "  )),\n",
    "  (3, array(\n",
    "    named_struct('name', 'keyboard', 'price', 99),\n",
    "    named_struct('name', 'mouse', 'price', 59)\n",
    "  )) AS ORDERS(order_id, items);\n"
   ]
  },
  {
   "cell_type": "code",
   "execution_count": 0,
   "metadata": {
    "application/vnd.databricks.v1+cell": {
     "cellMetadata": {
      "byteLimit": 2048000,
      "rowLimit": 10000
     },
     "inputWidgets": {},
     "nuid": "8032d827-a5ae-4030-a93a-44b0acf942f6",
     "showTitle": false,
     "tableResultSettingsMap": {},
     "title": ""
    }
   },
   "outputs": [],
   "source": [
    "select * from orders_items;"
   ]
  },
  {
   "cell_type": "markdown",
   "metadata": {
    "application/vnd.databricks.v1+cell": {
     "cellMetadata": {},
     "inputWidgets": {},
     "nuid": "f7335ee1-ba20-4199-aa26-7c6a89024ac0",
     "showTitle": false,
     "tableResultSettingsMap": {},
     "title": ""
    }
   },
   "source": [
    "###1.Convert All the names to upper case and add 10% tax on each item price"
   ]
  },
  {
   "cell_type": "code",
   "execution_count": 0,
   "metadata": {
    "application/vnd.databricks.v1+cell": {
     "cellMetadata": {
      "byteLimit": 2048000,
      "rowLimit": 10000
     },
     "inputWidgets": {},
     "nuid": "78bc5e49-3db4-4d61-be74-76ace9e45747",
     "showTitle": false,
     "tableResultSettingsMap": {},
     "title": ""
    }
   },
   "outputs": [],
   "source": [
    "Select order_id,\n",
    "TRANSFORM(items,x->upper(x.name)) AS UPPER_ITEMS_NAME,\n",
    "TRANSFORM(items,x->ROUND(x.price*1.1,2)) AS items_with_tax\n",
    "from orders_items;"
   ]
  },
  {
   "cell_type": "code",
   "execution_count": 0,
   "metadata": {
    "application/vnd.databricks.v1+cell": {
     "cellMetadata": {
      "byteLimit": 2048000,
      "rowLimit": 10000
     },
     "inputWidgets": {},
     "nuid": "bfe8d76e-d83a-46f4-a8da-cac88acf3c08",
     "showTitle": false,
     "tableResultSettingsMap": {},
     "title": ""
    }
   },
   "outputs": [],
   "source": [
    "Select order_id,\n",
    "TRANSFORM(items,x->array(upper(x.name),ROUND(x.price*1.1,2))) AS items_with_tax\n",
    "from orders_items;"
   ]
  },
  {
   "cell_type": "code",
   "execution_count": 0,
   "metadata": {
    "application/vnd.databricks.v1+cell": {
     "cellMetadata": {
      "byteLimit": 2048000,
      "rowLimit": 10000
     },
     "inputWidgets": {},
     "nuid": "3ba9d7e0-be43-411e-928c-fc2b69f9d314",
     "showTitle": false,
     "tableResultSettingsMap": {
      "0": {
       "dataGridStateBlob": "{\"version\":1,\"tableState\":{\"columnPinning\":{\"left\":[\"#row_number#\"],\"right\":[]},\"columnSizing\":{},\"columnVisibility\":{}},\"settings\":{\"columns\":{}},\"syncTimestamp\":1752567222647}",
       "filterBlob": null,
       "queryPlanFiltersBlob": null,
       "tableResultIndex": 0
      }
     },
     "title": ""
    }
   },
   "outputs": [],
   "source": [
    "Select order_id,\n",
    "TRANSFORM(items,x->named_struct(\n",
    "  'name',upper(x.name),'price',ROUND(x.price*1.1,2)\n",
    ")) AS items_with_tax\n",
    "-- Here we are uppercasing the name and price and return it as named_struct that is why we are using named_struct function\n",
    "from orders_items;"
   ]
  },
  {
   "cell_type": "markdown",
   "metadata": {
    "application/vnd.databricks.v1+cell": {
     "cellMetadata": {},
     "inputWidgets": {},
     "nuid": "be2aa43e-b41f-47a2-a1b9-271453a79fec",
     "showTitle": false,
     "tableResultSettingsMap": {},
     "title": ""
    }
   },
   "source": [
    "###2.Calculate the total amount of each order (AGGREGATE)"
   ]
  },
  {
   "cell_type": "code",
   "execution_count": 0,
   "metadata": {
    "application/vnd.databricks.v1+cell": {
     "cellMetadata": {
      "byteLimit": 2048000,
      "rowLimit": 10000
     },
     "inputWidgets": {},
     "nuid": "c2974dd2-392d-4075-9001-1e76a43b065d",
     "showTitle": false,
     "tableResultSettingsMap": {},
     "title": ""
    }
   },
   "outputs": [],
   "source": [
    "Select order_id,\n",
    "AGGREGATE(items,0,(acc,x)->acc+x.price) AS total_price\n",
    "-- Here 0 is used to initialize accumulater(counter) and then we are adding price to it and calculate the running sum\n",
    "from orders_items;"
   ]
  },
  {
   "cell_type": "markdown",
   "metadata": {
    "application/vnd.databricks.v1+cell": {
     "cellMetadata": {},
     "inputWidgets": {},
     "nuid": "a1b4d928-f964-4220-b6b8-4e0b6f895d7f",
     "showTitle": false,
     "tableResultSettingsMap": {},
     "title": ""
    }
   },
   "source": [
    "## MAP Function"
   ]
  },
  {
   "cell_type": "markdown",
   "metadata": {
    "application/vnd.databricks.v1+cell": {
     "cellMetadata": {},
     "inputWidgets": {},
     "nuid": "7bfc5324-dd92-40f3-b28a-d3761f8fb8e0",
     "showTitle": false,
     "tableResultSettingsMap": {},
     "title": ""
    }
   },
   "source": [
    "<p> A map is a collection of key-value pairs like a dictionary</p>\n",
    "<p>{'laptop':1200,'phone':699}</p>"
   ]
  },
  {
   "cell_type": "markdown",
   "metadata": {
    "application/vnd.databricks.v1+cell": {
     "cellMetadata": {},
     "inputWidgets": {},
     "nuid": "2f6be848-3b92-48ec-ab98-5d641fc26646",
     "showTitle": false,
     "tableResultSettingsMap": {},
     "title": ""
    }
   },
   "source": [
    "###Commonly Used higher order map functions\n",
    "- TRANSFORM_VALUES\n",
    "- TRANSFORM_KEYS\n",
    "- MAP_FILTER"
   ]
  },
  {
   "cell_type": "markdown",
   "metadata": {
    "application/vnd.databricks.v1+cell": {
     "cellMetadata": {},
     "inputWidgets": {},
     "nuid": "20edb74f-d424-4367-934b-4c079b270ec2",
     "showTitle": false,
     "tableResultSettingsMap": {},
     "title": ""
    }
   },
   "source": [
    "####Syntax\n",
    "###### *function_name* (map_column, lambda_expression)\n",
    "###### *lambda_expression:* (key,value)->expression"
   ]
  },
  {
   "cell_type": "code",
   "execution_count": 0,
   "metadata": {
    "application/vnd.databricks.v1+cell": {
     "cellMetadata": {
      "byteLimit": 2048000,
      "rowLimit": 10000
     },
     "inputWidgets": {},
     "nuid": "89af2b81-e649-4622-9ffc-f6bd7c8dff65",
     "showTitle": false,
     "tableResultSettingsMap": {},
     "title": ""
    }
   },
   "outputs": [],
   "source": [
    "CREATE OR REPLACE TEMPORARY VIEW order_item_prices AS\n",
    "SELECT * FROM\n",
    "VALUES\n",
    "  (1,map('smartphone',699,'laptop',1199,'monitor',399)),\n",
    "  (2,map('tablets',599,'headphone',199,'smartwatch',299)),\n",
    "  (3,map('keyboard',99,'mouse',59))\n",
    "AS ORDERS(order_id,item_prices)"
   ]
  },
  {
   "cell_type": "code",
   "execution_count": 0,
   "metadata": {
    "application/vnd.databricks.v1+cell": {
     "cellMetadata": {
      "byteLimit": 2048000,
      "rowLimit": 10000
     },
     "inputWidgets": {},
     "nuid": "2b476bcc-f03a-4426-adb6-423768a769eb",
     "showTitle": false,
     "tableResultSettingsMap": {},
     "title": ""
    }
   },
   "outputs": [],
   "source": [
    "select * from order_item_prices;"
   ]
  },
  {
   "cell_type": "markdown",
   "metadata": {
    "application/vnd.databricks.v1+cell": {
     "cellMetadata": {},
     "inputWidgets": {},
     "nuid": "526c42b2-7d3d-4efe-bd43-4b78518ed960",
     "showTitle": false,
     "tableResultSettingsMap": {},
     "title": ""
    }
   },
   "source": [
    "###1.Convert all the item names to UPPER case(TRANSFORM_KEYS function)"
   ]
  },
  {
   "cell_type": "code",
   "execution_count": 0,
   "metadata": {
    "application/vnd.databricks.v1+cell": {
     "cellMetadata": {
      "byteLimit": 2048000,
      "rowLimit": 10000
     },
     "inputWidgets": {},
     "nuid": "6a602050-2d0a-4dda-8472-7e71205a94a5",
     "showTitle": false,
     "tableResultSettingsMap": {},
     "title": ""
    }
   },
   "outputs": [],
   "source": [
    "SELECT order_id,\n",
    "transform_keys(item_prices,(k,v)->upper(k)) as Item_upper_case \n",
    "from order_item_prices;"
   ]
  },
  {
   "cell_type": "markdown",
   "metadata": {
    "application/vnd.databricks.v1+cell": {
     "cellMetadata": {},
     "inputWidgets": {},
     "nuid": "4aec4c9b-08dc-4847-86ab-24f7373f7290",
     "showTitle": false,
     "tableResultSettingsMap": {},
     "title": ""
    }
   },
   "source": [
    "###2.Apply 10% tax to item_prices(TRANSFORM_VALUES function)"
   ]
  },
  {
   "cell_type": "code",
   "execution_count": 0,
   "metadata": {
    "application/vnd.databricks.v1+cell": {
     "cellMetadata": {
      "byteLimit": 2048000,
      "rowLimit": 10000
     },
     "inputWidgets": {},
     "nuid": "cf8c3f07-dd33-4ca5-8a39-4d3cb0c8ff3d",
     "showTitle": false,
     "tableResultSettingsMap": {},
     "title": ""
    }
   },
   "outputs": [],
   "source": [
    "SELECT order_id,\n",
    "transform_values(item_prices,(item,price)->round(price*1.1,2)) as Item_upper_case \n",
    "from order_item_prices;"
   ]
  },
  {
   "cell_type": "markdown",
   "metadata": {
    "application/vnd.databricks.v1+cell": {
     "cellMetadata": {},
     "inputWidgets": {},
     "nuid": "e5bbcf2f-9ebe-4fe5-bfe6-46626789b657",
     "showTitle": false,
     "tableResultSettingsMap": {},
     "title": ""
    }
   },
   "source": [
    "###3. Filter Only function value above 500 usd"
   ]
  },
  {
   "cell_type": "code",
   "execution_count": 0,
   "metadata": {
    "application/vnd.databricks.v1+cell": {
     "cellMetadata": {
      "byteLimit": 2048000,
      "rowLimit": 10000
     },
     "inputWidgets": {},
     "nuid": "a99b8392-c93d-4758-a4d0-c7aff9ef9992",
     "showTitle": false,
     "tableResultSettingsMap": {},
     "title": ""
    }
   },
   "outputs": [],
   "source": [
    "SELECT order_id,\n",
    "MAP_FILTER(item_prices,(item,price)-> price>500) as Item_upper_case \n",
    "from order_item_prices;"
   ]
  },
  {
   "cell_type": "code",
   "execution_count": 0,
   "metadata": {
    "application/vnd.databricks.v1+cell": {
     "cellMetadata": {},
     "inputWidgets": {},
     "nuid": "313079fc-27ea-4d71-b416-ff957c159d78",
     "showTitle": false,
     "tableResultSettingsMap": {},
     "title": ""
    }
   },
   "outputs": [],
   "source": []
  }
 ],
 "metadata": {
  "application/vnd.databricks.v1+notebook": {
   "computePreferences": null,
   "dashboards": [],
   "environmentMetadata": {
    "base_environment": "",
    "environment_version": "2"
   },
   "inputWidgetPreferences": null,
   "language": "sql",
   "notebookMetadata": {
    "pythonIndentUnit": 4
   },
   "notebookName": "13.Higher Order Functions",
   "widgets": {}
  },
  "language_info": {
   "name": "sql"
  }
 },
 "nbformat": 4,
 "nbformat_minor": 0
}
