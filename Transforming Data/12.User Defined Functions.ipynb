{
 "cells": [
  {
   "cell_type": "markdown",
   "metadata": {
    "application/vnd.databricks.v1+cell": {
     "cellMetadata": {},
     "inputWidgets": {},
     "nuid": "71374ca3-98b0-4920-8b88-fa84bdf02e90",
     "showTitle": false,
     "tableResultSettingsMap": {},
     "title": ""
    }
   },
   "source": [
    "## User Defined Functions\n",
    "- UDF in Spark are custom functions created by users to extend the capabilities of Spark Sql and Pyspark\n",
    "- UDF allows us to perform calculations or transformations to apply business logic that are not possible with built-in functions\n",
    "- We need to define the function once and use it accross multiple queries\n",
    "- SQL UDFs are recommended over PYTHON UDFs due to better optimization"
   ]
  },
  {
   "cell_type": "markdown",
   "metadata": {
    "application/vnd.databricks.v1+cell": {
     "cellMetadata": {},
     "inputWidgets": {},
     "nuid": "922d91f2-d4b4-4e0c-89a9-86e18ca20d7c",
     "showTitle": false,
     "tableResultSettingsMap": {},
     "title": ""
    }
   },
   "source": [
    "###Syntax\n",
    "<p>\n",
    "<b>CREATE OR REPLACE FUNCTION</b> catalog_name.schema_name.udf_name(param_name data_type)<br>\n",
    "<b>RETURNS</b> return_type<br>\n",
    "<b>RETURN</b> expression\n",
    "</p>"
   ]
  },
  {
   "cell_type": "code",
   "execution_count": 0,
   "metadata": {
    "application/vnd.databricks.v1+cell": {
     "cellMetadata": {
      "byteLimit": 2048000,
      "rowLimit": 10000
     },
     "inputWidgets": {},
     "nuid": "7bdc6fa3-1a8f-46ba-83da-ff9e2aa335c4",
     "showTitle": false,
     "tableResultSettingsMap": {},
     "title": ""
    }
   },
   "outputs": [],
   "source": [
    "CREATE OR REPLACE FUNCTION gizmobox_cat.default.get_fullname(firtname STRING,surname STRING)\n",
    " RETURNS STRING \n",
    " RETURN CONCAT(initcap(firtname),' ',initcap(surname))"
   ]
  },
  {
   "cell_type": "code",
   "execution_count": 0,
   "metadata": {
    "application/vnd.databricks.v1+cell": {
     "cellMetadata": {
      "byteLimit": 2048000,
      "rowLimit": 10000
     },
     "inputWidgets": {},
     "nuid": "eea6ed57-b2bb-4320-96fb-278cd3536b83",
     "showTitle": false,
     "tableResultSettingsMap": {},
     "title": ""
    }
   },
   "outputs": [],
   "source": [
    "select gizmobox_cat.default.get_fullname('sambit','dan');"
   ]
  },
  {
   "cell_type": "code",
   "execution_count": 0,
   "metadata": {
    "application/vnd.databricks.v1+cell": {
     "cellMetadata": {
      "byteLimit": 2048000,
      "rowLimit": 10000
     },
     "inputWidgets": {},
     "nuid": "68abd2cc-c6f0-428c-b2fb-4c9808b240f6",
     "showTitle": false,
     "tableResultSettingsMap": {},
     "title": ""
    }
   },
   "outputs": [],
   "source": [
    "DESCRIBE FUNCTION EXTENDED gizmobox_cat.default.get_fullname;"
   ]
  },
  {
   "cell_type": "code",
   "execution_count": 0,
   "metadata": {
    "application/vnd.databricks.v1+cell": {
     "cellMetadata": {
      "byteLimit": 2048000,
      "rowLimit": 10000
     },
     "inputWidgets": {},
     "nuid": "c5ac2ef1-a773-4ac5-a27a-ff535d772193",
     "showTitle": false,
     "tableResultSettingsMap": {},
     "title": ""
    }
   },
   "outputs": [],
   "source": [
    "CREATE OR REPLACE FUNCTION gizmobox_cat.default.get_payment_status(payment_status INT)\n",
    " RETURNS STRING \n",
    " RETURN CASE WHEN payment_status=1 THEN 'Success'\n",
    "WHEN payment_status=2 THEN 'Pending'\n",
    "WHEN payment_status=3 THEN 'Cancelled'\n",
    "WHEN payment_status=4 THEN 'Failed'\n",
    "ELSE 'Unknown'\n",
    " END;"
   ]
  },
  {
   "cell_type": "code",
   "execution_count": 0,
   "metadata": {
    "application/vnd.databricks.v1+cell": {
     "cellMetadata": {
      "byteLimit": 2048000,
      "rowLimit": 10000
     },
     "inputWidgets": {},
     "nuid": "d471b8d6-ab20-42f7-a172-a9083fb8b201",
     "showTitle": false,
     "tableResultSettingsMap": {},
     "title": ""
    }
   },
   "outputs": [],
   "source": [
    "select gizmobox_cat.default.get_payment_status(2);"
   ]
  }
 ],
 "metadata": {
  "application/vnd.databricks.v1+notebook": {
   "computePreferences": null,
   "dashboards": [],
   "environmentMetadata": {
    "base_environment": "",
    "environment_version": "2"
   },
   "inputWidgetPreferences": null,
   "language": "sql",
   "notebookMetadata": {
    "pythonIndentUnit": 4
   },
   "notebookName": "12.User Defined Functions",
   "widgets": {}
  },
  "language_info": {
   "name": "sql"
  }
 },
 "nbformat": 4,
 "nbformat_minor": 0
}
