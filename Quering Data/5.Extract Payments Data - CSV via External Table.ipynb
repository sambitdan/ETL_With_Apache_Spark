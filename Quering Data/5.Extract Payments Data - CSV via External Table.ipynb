{
 "cells": [
  {
   "cell_type": "markdown",
   "metadata": {
    "application/vnd.databricks.v1+cell": {
     "cellMetadata": {},
     "inputWidgets": {},
     "nuid": "a01821e7-cf32-46f1-bd5d-ac76a3b931e2",
     "showTitle": false,
     "tableResultSettingsMap": {},
     "title": ""
    }
   },
   "source": [
    "## Extract Data from payments files\n",
    "<ol>\n",
    "<li>List the files from Payments folder</li>\n",
    "<li>Create External Table</li>\n",
    "<li>Demostrate the effect of Adding/Updating/Deleting Files.</li>\n",
    "<li>Demostrate the effect of dropping the table</li>\n",
    "</ol>"
   ]
  },
  {
   "cell_type": "markdown",
   "metadata": {
    "application/vnd.databricks.v1+cell": {
     "cellMetadata": {},
     "inputWidgets": {},
     "nuid": "2f4ce7ba-28c7-419d-ab8c-3b5d774fb05e",
     "showTitle": false,
     "tableResultSettingsMap": {},
     "title": ""
    }
   },
   "source": [
    "###1.List the files from Payment folder"
   ]
  },
  {
   "cell_type": "code",
   "execution_count": 0,
   "metadata": {
    "application/vnd.databricks.v1+cell": {
     "cellMetadata": {
      "byteLimit": 2048000,
      "rowLimit": 10000
     },
     "inputWidgets": {},
     "nuid": "261bd07e-7cb1-4f42-bf34-5b76d7608885",
     "showTitle": false,
     "tableResultSettingsMap": {},
     "title": ""
    }
   },
   "outputs": [],
   "source": [
    "%fs ls 'abfss://gizmobox@sambitdatabricksstorage.dfs.core.windows.net/landing/external_data/payments'"
   ]
  },
  {
   "cell_type": "markdown",
   "metadata": {
    "application/vnd.databricks.v1+cell": {
     "cellMetadata": {},
     "inputWidgets": {},
     "nuid": "83ca82ee-aa94-4e9d-83df-1d03d58ec285",
     "showTitle": false,
     "tableResultSettingsMap": {},
     "title": ""
    }
   },
   "source": [
    "###2.Create External Table"
   ]
  },
  {
   "cell_type": "code",
   "execution_count": 0,
   "metadata": {
    "application/vnd.databricks.v1+cell": {
     "cellMetadata": {
      "byteLimit": 2048000,
      "rowLimit": 10000
     },
     "inputWidgets": {},
     "nuid": "a111ad25-3e72-4079-b91f-cac84a7d4515",
     "showTitle": false,
     "tableResultSettingsMap": {},
     "title": ""
    }
   },
   "outputs": [],
   "source": [
    "CREATE TABLE IF NOT EXISTS gizmobox_cat.bronze.payments\n",
    "(\n",
    "  payment_id integer,\n",
    "  order_id int,\n",
    "  payment_timestamp timestamp,\n",
    "  payment_status int,\n",
    "  payment_method STRING\n",
    ")\n",
    "USING CSV\n",
    "OPTIONS(\n",
    "  header=true,\n",
    "  delimiter=','\n",
    ")\n",
    "LOCATION 'abfss://gizmobox@sambitdatabricksstorage.dfs.core.windows.net/landing/external_data/payments';\n",
    "-- IF we don't provide location then it will be managed table and the managed tables are created in the managed locations of the schema that is specified or if it is not specified it will create table in metastore root storage"
   ]
  },
  {
   "cell_type": "code",
   "execution_count": 0,
   "metadata": {
    "application/vnd.databricks.v1+cell": {
     "cellMetadata": {
      "byteLimit": 2048000,
      "rowLimit": 10000
     },
     "inputWidgets": {},
     "nuid": "919e6e0d-6916-4035-b6f4-7cbf30fa14bb",
     "showTitle": false,
     "tableResultSettingsMap": {},
     "title": ""
    }
   },
   "outputs": [],
   "source": [
    "select * from gizmobox_cat.bronze.payments;"
   ]
  },
  {
   "cell_type": "code",
   "execution_count": 0,
   "metadata": {
    "application/vnd.databricks.v1+cell": {
     "cellMetadata": {
      "byteLimit": 2048000,
      "rowLimit": 10000
     },
     "inputWidgets": {},
     "nuid": "240c17cf-a278-47a1-895d-6326d0fdaedf",
     "showTitle": false,
     "tableResultSettingsMap": {},
     "title": ""
    }
   },
   "outputs": [],
   "source": [
    "DESCRIBE EXTENDED gizmobox_cat.bronze.payments;"
   ]
  },
  {
   "cell_type": "markdown",
   "metadata": {
    "application/vnd.databricks.v1+cell": {
     "cellMetadata": {},
     "inputWidgets": {},
     "nuid": "7c6a75b5-33df-4ecc-b0d1-e6b74f038def",
     "showTitle": false,
     "tableResultSettingsMap": {},
     "title": ""
    }
   },
   "source": [
    "###3.Demostrate the effect of Adding/Updating/Deleting Files."
   ]
  },
  {
   "cell_type": "code",
   "execution_count": 0,
   "metadata": {
    "application/vnd.databricks.v1+cell": {
     "cellMetadata": {
      "byteLimit": 2048000,
      "rowLimit": 10000
     },
     "inputWidgets": {},
     "nuid": "1e438c8c-1d0a-479d-b16e-77aa0a540eca",
     "showTitle": false,
     "tableResultSettingsMap": {},
     "title": ""
    }
   },
   "outputs": [],
   "source": [
    "-- Checking after deleting file from azure datalake storage\n",
    "select * from gizmobox_cat.bronze.payments;"
   ]
  },
  {
   "cell_type": "code",
   "execution_count": 0,
   "metadata": {
    "application/vnd.databricks.v1+cell": {
     "cellMetadata": {
      "byteLimit": 2048000,
      "rowLimit": 10000
     },
     "inputWidgets": {},
     "nuid": "26c9e639-fe47-426b-b7db-888df8682f8b",
     "showTitle": false,
     "tableResultSettingsMap": {},
     "title": ""
    }
   },
   "outputs": [],
   "source": [
    "-- in order to overcome file not exits error we need to refresh the external table\n",
    "REFRESH TABLE gizmobox_cat.bronze.payments;\n",
    "-- Spark will look into files and refresh the metadata\n"
   ]
  },
  {
   "cell_type": "code",
   "execution_count": 0,
   "metadata": {
    "application/vnd.databricks.v1+cell": {
     "cellMetadata": {
      "byteLimit": 2048000,
      "rowLimit": 10000
     },
     "inputWidgets": {},
     "nuid": "80851f28-e5c3-410f-85a5-c0ecaf9ad2b1",
     "showTitle": false,
     "tableResultSettingsMap": {},
     "title": ""
    }
   },
   "outputs": [],
   "source": [
    "select * from gizmobox_cat.bronze.payments;"
   ]
  },
  {
   "cell_type": "code",
   "execution_count": 0,
   "metadata": {
    "application/vnd.databricks.v1+cell": {
     "cellMetadata": {
      "byteLimit": 2048000,
      "rowLimit": 10000
     },
     "inputWidgets": {},
     "nuid": "69c9a2ed-d8f6-47a5-aa64-b3b38c4471fc",
     "showTitle": false,
     "tableResultSettingsMap": {},
     "title": ""
    }
   },
   "outputs": [],
   "source": [
    "--  rerunning the query after adding the deleted file azure blob storage\n",
    "select * from gizmobox_cat.bronze.payments;\n",
    "-- However there is no error but rows are not updated"
   ]
  },
  {
   "cell_type": "code",
   "execution_count": 0,
   "metadata": {
    "application/vnd.databricks.v1+cell": {
     "cellMetadata": {
      "byteLimit": 2048000,
      "rowLimit": 10000
     },
     "inputWidgets": {},
     "nuid": "d443e26a-4a88-431f-a496-d7f8a1169863",
     "showTitle": false,
     "tableResultSettingsMap": {},
     "title": ""
    }
   },
   "outputs": [],
   "source": [
    "REFRESH TABLE gizmobox_cat.bronze.payments;\n",
    "select * from gizmobox_cat.bronze.payments;\n",
    "-- after refreshing the table the data god updated"
   ]
  },
  {
   "cell_type": "markdown",
   "metadata": {
    "application/vnd.databricks.v1+cell": {
     "cellMetadata": {},
     "inputWidgets": {},
     "nuid": "adefe2a8-ec6c-452b-92cf-3f1025d30d92",
     "showTitle": false,
     "tableResultSettingsMap": {},
     "title": ""
    }
   },
   "source": [
    "###4.Demostrate the effect of dropping the table"
   ]
  },
  {
   "cell_type": "code",
   "execution_count": 0,
   "metadata": {
    "application/vnd.databricks.v1+cell": {
     "cellMetadata": {
      "byteLimit": 2048000,
      "rowLimit": 10000
     },
     "inputWidgets": {},
     "nuid": "e539697a-b492-42f5-bd2c-da2b65ac8373",
     "showTitle": false,
     "tableResultSettingsMap": {},
     "title": ""
    }
   },
   "outputs": [],
   "source": [
    "DROP TABLE IF EXISTS gizmobox_cat.bronze.payments;\n",
    "-- the underline data or files will not get deleted but if we drop managed tables all the unline files and data will get deleted"
   ]
  },
  {
   "cell_type": "markdown",
   "metadata": {
    "application/vnd.databricks.v1+cell": {
     "cellMetadata": {},
     "inputWidgets": {},
     "nuid": "787dfb75-98c1-42fa-b01a-ac016b8f1128",
     "showTitle": false,
     "tableResultSettingsMap": {},
     "title": ""
    }
   },
   "source": [
    "###5.Creating the external table back again"
   ]
  },
  {
   "cell_type": "code",
   "execution_count": 0,
   "metadata": {
    "application/vnd.databricks.v1+cell": {
     "cellMetadata": {
      "byteLimit": 2048000,
      "rowLimit": 10000
     },
     "inputWidgets": {},
     "nuid": "962cb260-0d39-4f8a-8372-52a708ddce5f",
     "showTitle": false,
     "tableResultSettingsMap": {},
     "title": ""
    }
   },
   "outputs": [],
   "source": [
    "CREATE TABLE IF NOT EXISTS gizmobox_cat.bronze.payments\n",
    "(\n",
    "  payment_id integer,\n",
    "  order_id int,\n",
    "  payment_timestamp timestamp,\n",
    "  payment_status int,\n",
    "  payment_method STRING\n",
    ")\n",
    "USING CSV\n",
    "OPTIONS(\n",
    "  header=true,\n",
    "  delimiter=','\n",
    ")\n",
    "LOCATION 'abfss://gizmobox@sambitdatabricksstorage.dfs.core.windows.net/landing/external_data/payments';"
   ]
  }
 ],
 "metadata": {
  "application/vnd.databricks.v1+notebook": {
   "computePreferences": null,
   "dashboards": [],
   "environmentMetadata": {
    "base_environment": "",
    "environment_version": "2"
   },
   "inputWidgetPreferences": null,
   "language": "sql",
   "notebookMetadata": {
    "mostRecentlyExecutedCommandWithImplicitDF": {
     "commandId": 7173145019706618,
     "dataframes": [
      "_sqldf"
     ]
    }
   },
   "notebookName": "5.Extract Payments Data - CSV via External Table",
   "widgets": {}
  },
  "language_info": {
   "name": "sql"
  }
 },
 "nbformat": 4,
 "nbformat_minor": 0
}
